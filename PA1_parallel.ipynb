{
 "cells": [
  {
   "cell_type": "markdown",
   "id": "2bb7bea8",
   "metadata": {},
   "source": [
    "# IMPORTS"
   ]
  },
  {
   "cell_type": "code",
   "execution_count": 1,
   "id": "da1c2e49",
   "metadata": {
    "ExecuteTime": {
     "end_time": "2024-11-17T21:43:33.946184Z",
     "start_time": "2024-11-17T21:43:32.493290Z"
    }
   },
   "outputs": [],
   "source": [
    "import time\n",
    "from sklearn.metrics import precision_score, recall_score, f1_score, roc_auc_score,roc_curve, precision_recall_curve, confusion_matrix\n",
    "import matplotlib.pyplot as plt\n",
    "import seaborn as sns\n",
    "import numpy as np\n",
    "from pyspark.sql import SparkSession\n",
    "from pyspark import StorageLevel\n",
    "import pandas as pd\n"
   ]
  },
  {
   "cell_type": "markdown",
   "id": "ef538e58",
   "metadata": {},
   "source": [
    "# Parallel Class"
   ]
  },
  {
   "cell_type": "code",
   "execution_count": 26,
   "id": "d6cd516f",
   "metadata": {
    "ExecuteTime": {
     "end_time": "2024-11-17T22:15:50.192744Z",
     "start_time": "2024-11-17T22:15:50.168435Z"
    }
   },
   "outputs": [],
   "source": [
    "def predict(w, b, X):\n",
    "    z = np.dot(X, w) + b\n",
    "    return 1 if sigmoid(z) > 0.5 else 0\n",
    "\n",
    "def sigmoid(z):\n",
    "    # Use a numerically stable version\n",
    "    return np.where(z >= 0, 1 / (1 + np.exp(-z)), np.exp(z) / (1 + np.exp(z)))\n",
    "\n",
    "\n",
    "class ParallelLogisticRegression:\n",
    "    def __init__(self,spark=None):\n",
    "        self.spark=spark\n",
    "    \n",
    "    #@staticmethod\n",
    "    def readFile(self,filename):\n",
    "        filename = 'botnet_tot_syn_l.csv'\n",
    "        spark=self.spark\n",
    "        rdd = spark.sparkContext.textFile(filename)\n",
    "        header = rdd.first()\n",
    "        data_rdd = rdd.filter(lambda line: line != header) \\\n",
    "                     .map(lambda line: [float(x) for x in line.split(',')])\n",
    "        return data_rdd.map(lambda x: (np.array(x[:-1]), x[-1]))\n",
    "\n",
    "    @staticmethod\n",
    "    def normalize(rdd_Xy):\n",
    "        count = rdd_Xy.count()\n",
    "        sums = rdd_Xy.map(lambda x: x[0]).reduce(lambda a, b: a + b)\n",
    "        means = sums / count\n",
    "        var_sums = rdd_Xy.map(lambda x: (x[0] - means) ** 2).reduce(lambda a, b: a + b)\n",
    "        stds = np.sqrt(var_sums / count)\n",
    "        \n",
    "        # Normalize features and cache the RDD for reuse in training\n",
    "        normalized_rdd = rdd_Xy.map(lambda x: ((x[0] - means) / stds, x[1]))\n",
    "        normalized_rdd.persist(StorageLevel.MEMORY_ONLY)  # Caching normalized data\n",
    "        return normalized_rdd\n",
    "\n",
    "    def train(rdd_Xy, iterations, learning_rate, lambda_reg):\n",
    "\n",
    "        n = len(rdd_Xy.first()[0])  # number of features\n",
    "        w = np.zeros(n)\n",
    "        b = 0\n",
    "        m = rdd_Xy.count()\n",
    "        costs = []\n",
    "        \n",
    "        # Cache RDD to avoid recomputation across iterations\n",
    "        rdd_Xy.persist(StorageLevel.MEMORY_ONLY)\n",
    "\n",
    "        for i in range(iterations):\n",
    "            # Parallel computation of gradients and cost\n",
    "            gradients = rdd_Xy.map(lambda x: {\n",
    "                'pred': sigmoid(np.dot(x[0], w) + b), \n",
    "                'x': x[0],  \n",
    "                'y': x[1]   \n",
    "            }).map(lambda d: {\n",
    "                'dw': (d['pred'] - d['y']) * d['x'],\n",
    "                'db': d['pred'] - d['y'],\n",
    "                'cost': -d['y'] * np.log(d['pred']) - (1 - d['y']) * np.log(1 - d['pred'])\n",
    "            }).reduce(lambda a, b: {\n",
    "                'dw': a['dw'] + b['dw'],\n",
    "                'db': a['db'] + b['db'],\n",
    "                'cost': a['cost'] + b['cost']\n",
    "            })\n",
    "\n",
    "            # Update weights and bias\n",
    "            dw = gradients['dw'] / m + (lambda_reg / m) * w\n",
    "            db = gradients['db'] / m\n",
    "            cost = gradients['cost'] / m + (lambda_reg / (2 * m)) * np.sum(w ** 2)\n",
    "\n",
    "            # Gradient descent update step\n",
    "            w -= learning_rate * dw\n",
    "            b -= learning_rate * db\n",
    "            costs.append(cost)\n",
    "            \n",
    "            if i % 2 == 0:\n",
    "                print(f\"Iteration {i}, Cost: {cost}\")\n",
    "        \n",
    "        # Unpersist RDD after training\n",
    "        rdd_Xy.unpersist()\n",
    "        \n",
    "        return w, b, costs\n",
    "\n",
    "    @staticmethod\n",
    "    def accuracy(w, b, rdd_Xy):\n",
    "\n",
    "        correct_predictions = rdd_Xy.map(lambda x: (predict(w, b, x[0]) == x[1])).reduce(lambda a, b: a + b)\n",
    "        return correct_predictions / rdd_Xy.count()\n",
    "\n",
    "\n",
    "    #@staticmethod\n",
    "    def evaluate_performance(self,num_cores_range,iterations=10 ,normalized_rdd=None ):\n",
    "        performance_results = []\n",
    "        self.spark = None \n",
    "\n",
    "        # Configure Spark for different core counts\n",
    "        for cores in num_cores_range:\n",
    "            filename = 'botnet_tot_syn_l.csv'\n",
    "            \n",
    "            if hasattr(self, 'spark') and self.spark is not None:\n",
    "                self.spark.stop()\n",
    "\n",
    "            self.spark = SparkSession.builder \\\n",
    "                .appName(f\"LogisticRegression_{cores}\") \\\n",
    "                .config(\"spark.executor.cores\", cores) \\\n",
    "                .config(\"spark.default.parallelism\", cores) \\\n",
    "                .config(\"spark.sql.shuffle.partitions\",cores) \\\n",
    "                .getOrCreate()\n",
    "\n",
    "            spark=self.spark\n",
    "            \n",
    "            data_rdd = self.readFile(filename)\n",
    "            normalized_rdd = ParallelLogisticRegression.normalize(data_rdd)\n",
    "\n",
    "            start_time = time.time()\n",
    "\n",
    "            # Train model\n",
    "            w, b, costs = ParallelLogisticRegression.train(\n",
    "                normalized_rdd, \n",
    "                iterations=iterations,\n",
    "                learning_rate=0.1,\n",
    "                lambda_reg=0.1\n",
    "            )\n",
    "            end_time = time.time()\n",
    "            execution_time = end_time - start_time\n",
    "            print(f'Execution time for {cores} cores:',execution_time)\n",
    "            \n",
    "            accuracy = ParallelLogisticRegression.accuracy(w, b, normalized_rdd)\n",
    "            performance_results.append({\n",
    "                'cores': cores,\n",
    "                'time': execution_time,\n",
    "                'accuracy': accuracy\n",
    "            })\n",
    " \n",
    "            self.spark.stop()\n",
    "            self.spark = None \n",
    "        return performance_results\n"
   ]
  },
  {
   "cell_type": "markdown",
   "id": "52b9fd4b",
   "metadata": {},
   "source": [
    "# Evaluation functions"
   ]
  },
  {
   "cell_type": "code",
   "execution_count": 3,
   "id": "2d028eb1",
   "metadata": {
    "ExecuteTime": {
     "end_time": "2024-11-17T21:43:39.166383Z",
     "start_time": "2024-11-17T21:43:39.153080Z"
    }
   },
   "outputs": [],
   "source": [
    "\n",
    "\n",
    "def plot_performance_curves(results):\n",
    "    cores = [r['cores'] for r in results]\n",
    "    times = [r['time'] for r in results]\n",
    "    speedups = [results[0]['time']/t for t in times]\n",
    "    \n",
    "    # Plot performance curve\n",
    "    plt.figure(figsize=(12, 5))\n",
    "    \n",
    "    plt.subplot(1, 2, 1)\n",
    "    plt.plot(cores, times, 'bo-')\n",
    "    plt.xlabel('Number of Cores')\n",
    "    plt.ylabel('Execution Time (s)')\n",
    "    plt.title('Performance Curve')\n",
    "    \n",
    "    # Plot speedup curve\n",
    "    plt.subplot(1, 2, 2)\n",
    "    plt.plot(cores, speedups, 'ro-')\n",
    "    plt.xlabel('Number of Cores')\n",
    "    plt.ylabel('Speedup')\n",
    "    plt.title('Speedup Curve')\n",
    "    \n",
    "    plt.tight_layout()\n",
    "    plt.show()\n",
    "\n",
    "def calculate_metrics(y_true, y_pred, y_prob):\n",
    "    precision = precision_score(y_true, y_pred)\n",
    "    recall = recall_score(y_true, y_pred)\n",
    "    f1 = f1_score(y_true, y_pred)\n",
    "    auc_roc = roc_auc_score(y_true, y_prob)\n",
    "    conf_matrix = confusion_matrix(y_true, y_pred)\n",
    "    \n",
    "    # Calculate ROC and Precision-Recall Curves\n",
    "    fpr, tpr, _ = roc_curve(y_true, y_prob)\n",
    "    precision_curve, recall_curve, _ = precision_recall_curve(y_true, y_prob)\n",
    "    \n",
    "    return {\n",
    "        'precision': precision,\n",
    "        'recall': recall,\n",
    "        'f1': f1,\n",
    "        'auc_roc': auc_roc,\n",
    "        'confusion_matrix': conf_matrix,\n",
    "        'fpr': fpr,\n",
    "        'tpr': tpr,\n",
    "        'precision_curve': precision_curve,\n",
    "        'recall_curve': recall_curve\n",
    "    }\n",
    "\n",
    "def plot_metrics(metrics):\n",
    "    # Plot Confusion Matrix\n",
    "    plt.figure(figsize=(12, 8))\n",
    "    plt.subplot(2, 2, 1)\n",
    "    sns.heatmap(metrics['confusion_matrix'], annot=True, fmt=\"d\", cmap=\"Blues\", cbar=False)\n",
    "    plt.title(\"Confusion Matrix\")\n",
    "    plt.xlabel(\"Predicted\")\n",
    "    plt.ylabel(\"Actual\")\n",
    "    \n",
    "    # Plot ROC Curve\n",
    "    plt.subplot(2, 2, 2)\n",
    "    plt.plot(metrics['fpr'], metrics['tpr'], label=f\"AUC = {metrics['auc_roc']:.2f}\")\n",
    "    plt.plot([0, 1], [0, 1], linestyle=\"--\", color=\"gray\")\n",
    "    plt.title(\"ROC Curve\")\n",
    "    plt.xlabel(\"False Positive Rate\")\n",
    "    plt.ylabel(\"True Positive Rate\")\n",
    "    plt.legend()\n",
    "    \n",
    "    # Plot Precision-Recall Curve\n",
    "    plt.subplot(2, 2, 3)\n",
    "    plt.plot(metrics['recall_curve'], metrics['precision_curve'])\n",
    "    plt.title(\"Precision-Recall Curve\")\n",
    "    plt.xlabel(\"Recall\")\n",
    "    plt.ylabel(\"Precision\")\n",
    "    \n",
    "    # Show summary metrics \n",
    "    plt.subplot(2, 2, 4)\n",
    "    plt.axis(\"off\")\n",
    "    summary_text = f\"Precision: {metrics['precision']:.2f}\\n\" \\\n",
    "                   f\"Recall: {metrics['recall']:.2f}\\n\" \\\n",
    "                   f\"F1 Score: {metrics['f1']:.2f}\\n\" \\\n",
    "                   f\"AUC-ROC: {metrics['auc_roc']:.2f}\"\n",
    "    plt.text(0.1, 0.5, summary_text, fontsize=12, ha='left', va='center')\n",
    "    \n",
    "    plt.tight_layout()\n",
    "    plt.show()\n"
   ]
  },
  {
   "cell_type": "markdown",
   "id": "ae216a61",
   "metadata": {},
   "source": [
    "# Optimal core / partition count "
   ]
  },
  {
   "cell_type": "code",
   "execution_count": null,
   "id": "16ce50b3",
   "metadata": {
    "ExecuteTime": {
     "start_time": "2024-11-17T22:27:13.680Z"
    },
    "scrolled": true
   },
   "outputs": [
    {
     "name": "stdout",
     "output_type": "stream",
     "text": [
      "\n",
      "Testing optimal number of cores\n"
     ]
    },
    {
     "name": "stderr",
     "output_type": "stream",
     "text": [
      "[Stage 4:>                                                          (0 + 1) / 1]\r"
     ]
    },
    {
     "name": "stdout",
     "output_type": "stream",
     "text": [
      "24/11/17 23:27:29 WARN BlockManager: Task 28 already completed, not releasing lock for rdd_6_0\n"
     ]
    },
    {
     "name": "stderr",
     "output_type": "stream",
     "text": [
      "                                                                                \r"
     ]
    },
    {
     "name": "stdout",
     "output_type": "stream",
     "text": [
      "Iteration 0, Cost: 0.6931471805586802\n"
     ]
    },
    {
     "name": "stderr",
     "output_type": "stream",
     "text": [
      "                                                                                \r"
     ]
    },
    {
     "name": "stdout",
     "output_type": "stream",
     "text": [
      "Iteration 2, Cost: 0.6398165768860842\n"
     ]
    },
    {
     "name": "stderr",
     "output_type": "stream",
     "text": [
      "                                                                                \r"
     ]
    },
    {
     "name": "stdout",
     "output_type": "stream",
     "text": [
      "Iteration 4, Cost: 0.5954271122988762\n"
     ]
    },
    {
     "name": "stderr",
     "output_type": "stream",
     "text": [
      "                                                                                \r"
     ]
    },
    {
     "name": "stdout",
     "output_type": "stream",
     "text": [
      "Iteration 6, Cost: 0.5582330099571291\n"
     ]
    },
    {
     "name": "stderr",
     "output_type": "stream",
     "text": [
      "                                                                                \r"
     ]
    },
    {
     "name": "stdout",
     "output_type": "stream",
     "text": [
      "Iteration 8, Cost: 0.5268040024826823\n"
     ]
    },
    {
     "name": "stderr",
     "output_type": "stream",
     "text": [
      "                                                                                \r"
     ]
    },
    {
     "name": "stdout",
     "output_type": "stream",
     "text": [
      "Execution time for 1 cores: 89.72491455078125\n"
     ]
    },
    {
     "name": "stderr",
     "output_type": "stream",
     "text": [
      "[Stage 4:>                                                          (0 + 1) / 1]\r"
     ]
    },
    {
     "name": "stdout",
     "output_type": "stream",
     "text": [
      "24/11/17 23:29:24 WARN BlockManager: Task 28 already completed, not releasing lock for rdd_6_0\n"
     ]
    },
    {
     "name": "stderr",
     "output_type": "stream",
     "text": [
      "                                                                                \r"
     ]
    },
    {
     "name": "stdout",
     "output_type": "stream",
     "text": [
      "Iteration 0, Cost: 0.6931471805586802\n"
     ]
    },
    {
     "name": "stderr",
     "output_type": "stream",
     "text": [
      "                                                                                \r"
     ]
    },
    {
     "name": "stdout",
     "output_type": "stream",
     "text": [
      "Iteration 2, Cost: 0.6398165768860842\n"
     ]
    },
    {
     "name": "stderr",
     "output_type": "stream",
     "text": [
      "                                                                                \r"
     ]
    },
    {
     "name": "stdout",
     "output_type": "stream",
     "text": [
      "Iteration 4, Cost: 0.5954271122988762\n"
     ]
    }
   ],
   "source": [
    "\n",
    "    \n",
    "# Test parallel version with different core counts\n",
    "print(\"\\nTesting optimal number of cores\")\n",
    "\n",
    "model = ParallelLogisticRegression()\n",
    "results = model.evaluate_performance(range(1, 5),iterations=10, normalized_rdd=None)\n",
    "plot_performance_curves(results)\n",
    "\n"
   ]
  },
  {
   "cell_type": "markdown",
   "id": "125d5dd7",
   "metadata": {},
   "source": [
    "# Evaluation metrics "
   ]
  },
  {
   "cell_type": "code",
   "execution_count": 18,
   "id": "38e5b29b",
   "metadata": {
    "ExecuteTime": {
     "end_time": "2024-11-17T22:01:34.698998Z",
     "start_time": "2024-11-17T21:59:48.985750Z"
    }
   },
   "outputs": [
    {
     "name": "stderr",
     "output_type": "stream",
     "text": [
      "                                                                                \r"
     ]
    },
    {
     "name": "stdout",
     "output_type": "stream",
     "text": [
      "Testing parallel version...\n"
     ]
    },
    {
     "name": "stderr",
     "output_type": "stream",
     "text": [
      "\r",
      "[Stage 4:>                                                          (0 + 1) / 1]\r"
     ]
    },
    {
     "name": "stdout",
     "output_type": "stream",
     "text": [
      "24/11/17 23:00:01 WARN BlockManager: Task 28 already completed, not releasing lock for rdd_6_0\n"
     ]
    },
    {
     "name": "stderr",
     "output_type": "stream",
     "text": [
      "                                                                                \r"
     ]
    },
    {
     "name": "stdout",
     "output_type": "stream",
     "text": [
      "Iteration 0, Cost: 0.6931471805586802\n"
     ]
    },
    {
     "name": "stderr",
     "output_type": "stream",
     "text": [
      "                                                                                \r"
     ]
    },
    {
     "name": "stdout",
     "output_type": "stream",
     "text": [
      "Iteration 2, Cost: 0.6398165768860842\n"
     ]
    },
    {
     "name": "stderr",
     "output_type": "stream",
     "text": [
      "                                                                                \r"
     ]
    },
    {
     "name": "stdout",
     "output_type": "stream",
     "text": [
      "Iteration 4, Cost: 0.5954271122988762\n"
     ]
    },
    {
     "name": "stderr",
     "output_type": "stream",
     "text": [
      "                                                                                \r"
     ]
    },
    {
     "name": "stdout",
     "output_type": "stream",
     "text": [
      "Iteration 6, Cost: 0.5582330099571291\n"
     ]
    },
    {
     "name": "stderr",
     "output_type": "stream",
     "text": [
      "                                                                                \r"
     ]
    },
    {
     "name": "stdout",
     "output_type": "stream",
     "text": [
      "Iteration 8, Cost: 0.5268040024826823\n"
     ]
    },
    {
     "name": "stderr",
     "output_type": "stream",
     "text": [
      "                                                                                \r"
     ]
    },
    {
     "name": "stdout",
     "output_type": "stream",
     "text": [
      "Parallel version execution time 72.21472549438477\n"
     ]
    },
    {
     "name": "stderr",
     "output_type": "stream",
     "text": [
      "                                                                                \r"
     ]
    },
    {
     "data": {
      "image/png": "[encoded data removed]",
      "text/plain": [
       "<Figure size 1200x800 with 4 Axes>"
      ]
     },
     "metadata": {},
     "output_type": "display_data"
    }
   ],
   "source": [
    "\n",
    "#data_rdd = ParallelLogisticRegression.readFile(filename)\n",
    "#normalized_rdd = ParallelLogisticRegression.normalize(data_rdd)\n",
    "\n",
    "filename = 'botnet_tot_syn_l.csv'\n",
    "            \n",
    "\n",
    "\n",
    "spark = SparkSession.builder \\\n",
    "    .appName(f\"LogisticRegression_{2}\") \\\n",
    "    .config(\"spark.executor.cores\", 2) \\\n",
    "    .config(\"spark.default.parallelism\", 2) \\\n",
    "    .config(\"spark.sql.shuffle.partitions\",2) \\\n",
    "    .getOrCreate()\n",
    "model=ParallelLogisticRegression(spark)\n",
    "data_rdd = model.readFile(filename)\n",
    "normalized_rdd = ParallelLogisticRegression.normalize(data_rdd)\n",
    "\n",
    "print(\"Testing parallel version...\")\n",
    "start_time=time.time()\n",
    "w, b, _ = ParallelLogisticRegression.train(normalized_rdd, iterations=10, learning_rate=0.1, lambda_reg=0.1)\n",
    "end_time=time.time()\n",
    "execution_time = end_time - start_time\n",
    "print(f\"Parallel version execution time {execution_time}\")\n",
    "\n",
    "# Obtain predictions and probabilities in parallel\n",
    "y_true = normalized_rdd.map(lambda x: x[1]).collect()\n",
    "y_pred_parallel = normalized_rdd.map(lambda x: predict(w, b, x[0])).collect()\n",
    "y_prob_parallel = normalized_rdd.map(lambda x: sigmoid(np.dot(x[0], w) + b)).collect()\n",
    "\n",
    "# Calculate and plot metrics for parallel version\n",
    "metrics_parallel = calculate_metrics(np.array(y_true), np.array(y_pred_parallel), np.array(y_prob_parallel))\n",
    "plot_metrics(metrics_parallel)\n",
    "spark.stop()"
   ]
  },
  {
   "cell_type": "markdown",
   "id": "d6276bab",
   "metadata": {},
   "source": [
    "# RDD loader / SPARK UI :http://localhost:4040/jobs/"
   ]
  },
  {
   "cell_type": "code",
   "execution_count": 5,
   "id": "9c25a1a0",
   "metadata": {
    "ExecuteTime": {
     "end_time": "2024-11-14T22:10:05.783234Z",
     "start_time": "2024-11-14T22:10:01.654804Z"
    }
   },
   "outputs": [
    {
     "name": "stdout",
     "output_type": "stream",
     "text": [
      "24/11/14 23:10:03 WARN Utils: Your hostname, vm resolves to a loopback address: 127.0.1.1; using 10.0.2.15 instead (on interface enp0s3)\n",
      "24/11/14 23:10:03 WARN Utils: Set SPARK_LOCAL_IP if you need to bind to another address\n"
     ]
    },
    {
     "name": "stderr",
     "output_type": "stream",
     "text": [
      "Setting default log level to \"WARN\".\n",
      "To adjust logging level use sc.setLogLevel(newLevel). For SparkR, use setLogLevel(newLevel).\n"
     ]
    },
    {
     "name": "stdout",
     "output_type": "stream",
     "text": [
      "24/11/14 23:10:03 WARN NativeCodeLoader: Unable to load native-hadoop library for your platform... using builtin-java classes where applicable\n",
      "24/11/14 23:10:04 WARN Utils: Service 'SparkUI' could not bind on port 4040. Attempting port 4041.\n"
     ]
    },
    {
     "ename": "TypeError",
     "evalue": "readFile() missing 1 required positional argument: 'filename'",
     "output_type": "error",
     "traceback": [
      "\u001b[0;31m---------------------------------------------------------------------------\u001b[0m",
      "\u001b[0;31mTypeError\u001b[0m                                 Traceback (most recent call last)",
      "\u001b[0;32m/tmp/ipykernel_15800/1152783397.py\u001b[0m in \u001b[0;36m<module>\u001b[0;34m\u001b[0m\n\u001b[1;32m     10\u001b[0m \u001b[0;34m\u001b[0m\u001b[0m\n\u001b[1;32m     11\u001b[0m \u001b[0;34m\u001b[0m\u001b[0m\n\u001b[0;32m---> 12\u001b[0;31m \u001b[0mdata_rdd\u001b[0m \u001b[0;34m=\u001b[0m \u001b[0mParallelLogisticRegression\u001b[0m\u001b[0;34m.\u001b[0m\u001b[0mreadFile\u001b[0m\u001b[0;34m(\u001b[0m\u001b[0mfilename\u001b[0m\u001b[0;34m)\u001b[0m\u001b[0;34m\u001b[0m\u001b[0;34m\u001b[0m\u001b[0m\n\u001b[0m\u001b[1;32m     13\u001b[0m \u001b[0mnormalized_rdd\u001b[0m \u001b[0;34m=\u001b[0m \u001b[0mParallelLogisticRegression\u001b[0m\u001b[0;34m.\u001b[0m\u001b[0mnormalize\u001b[0m\u001b[0;34m(\u001b[0m\u001b[0mdata_rdd\u001b[0m\u001b[0;34m)\u001b[0m\u001b[0;34m\u001b[0m\u001b[0;34m\u001b[0m\u001b[0m\n\u001b[1;32m     14\u001b[0m \u001b[0;34m\u001b[0m\u001b[0m\n",
      "\u001b[0;31mTypeError\u001b[0m: readFile() missing 1 required positional argument: 'filename'"
     ]
    }
   ],
   "source": [
    "\n",
    "\n",
    "filename = \"botnet_reduced_l.csv\"\n",
    "filename = 'botnet_tot_syn_l.csv'\n",
    "\n",
    "spark = SparkSession.builder \\\n",
    "    .appName(\"LogisticRegression\") \\\n",
    "    .getOrCreate()\n",
    "\n",
    "spark.conf.set(\"spark.default.parallelism\",2)\n",
    "spark.conf.set(\"spark.sql.shuffle.partitions\",2)\n",
    "\n",
    "model = ParallelLogisticRegression()\n",
    "data_rdd = model.readFile(filename)\n",
    "normalized_rdd = model.ParallelLogisticRegression(data_rdd)\n",
    "\n",
    "\n",
    "partition_sizes = data_rdd.glom().map(len).collect()\n",
    "\n",
    "# Plotting partition sizes\n",
    "plt.bar(range(len(partition_sizes)), partition_sizes)\n",
    "plt.xlabel(\"Partition Index\")\n",
    "plt.ylabel(\"Number of Elements\")\n",
    "plt.title(\"Elements per Partition\")\n",
    "plt.show()\n"
   ]
  },
  {
   "cell_type": "markdown",
   "id": "f0931bc3",
   "metadata": {},
   "source": [
    "# Optional spark configuration information"
   ]
  },
  {
   "cell_type": "code",
   "execution_count": 15,
   "id": "319d655f",
   "metadata": {
    "ExecuteTime": {
     "end_time": "2024-11-10T20:50:53.458877Z",
     "start_time": "2024-11-10T20:50:53.435280Z"
    }
   },
   "outputs": [
    {
     "name": "stdout",
     "output_type": "stream",
     "text": [
      "spark.driver.extraJavaOptions = -XX:+IgnoreUnrecognizedVMOptions --add-opens=java.base/java.lang=ALL-UNNAMED --add-opens=java.base/java.lang.invoke=ALL-UNNAMED --add-opens=java.base/java.lang.reflect=ALL-UNNAMED --add-opens=java.base/java.io=ALL-UNNAMED --add-opens=java.base/java.net=ALL-UNNAMED --add-opens=java.base/java.nio=ALL-UNNAMED --add-opens=java.base/java.util=ALL-UNNAMED --add-opens=java.base/java.util.concurrent=ALL-UNNAMED --add-opens=java.base/java.util.concurrent.atomic=ALL-UNNAMED --add-opens=java.base/sun.nio.ch=ALL-UNNAMED --add-opens=java.base/sun.nio.cs=ALL-UNNAMED --add-opens=java.base/sun.security.action=ALL-UNNAMED --add-opens=java.base/sun.util.calendar=ALL-UNNAMED --add-opens=java.security.jgss/sun.security.krb5=ALL-UNNAMED\n",
      "spark.app.startTime = 1731271305797\n",
      "spark.executor.id = driver\n",
      "spark.driver.host = 10.0.2.15\n",
      "spark.app.submitTime = 1731265868748\n",
      "spark.app.id = local-1731271305852\n",
      "spark.driver.port = 39511\n",
      "spark.rdd.compress = True\n",
      "spark.executor.extraJavaOptions = -XX:+IgnoreUnrecognizedVMOptions --add-opens=java.base/java.lang=ALL-UNNAMED --add-opens=java.base/java.lang.invoke=ALL-UNNAMED --add-opens=java.base/java.lang.reflect=ALL-UNNAMED --add-opens=java.base/java.io=ALL-UNNAMED --add-opens=java.base/java.net=ALL-UNNAMED --add-opens=java.base/java.nio=ALL-UNNAMED --add-opens=java.base/java.util=ALL-UNNAMED --add-opens=java.base/java.util.concurrent=ALL-UNNAMED --add-opens=java.base/java.util.concurrent.atomic=ALL-UNNAMED --add-opens=java.base/sun.nio.ch=ALL-UNNAMED --add-opens=java.base/sun.nio.cs=ALL-UNNAMED --add-opens=java.base/sun.security.action=ALL-UNNAMED --add-opens=java.base/sun.util.calendar=ALL-UNNAMED --add-opens=java.security.jgss/sun.security.krb5=ALL-UNNAMED\n",
      "spark.app.name = LogisticRegression\n",
      "spark.serializer.objectStreamReset = 100\n",
      "spark.master = local[*]\n",
      "spark.submit.pyFiles = \n",
      "spark.submit.deployMode = client\n",
      "spark.sql.warehouse.dir = file:/home/administrador/spark-warehouse\n",
      "spark.ui.showConsoleProgress = true\n"
     ]
    }
   ],
   "source": [
    "# Print all Spark configurations\n",
    "for item in spark.sparkContext.getConf().getAll():\n",
    "    print(f\"{item[0]} = {item[1]}\")\n"
   ]
  },
  {
   "cell_type": "code",
   "execution_count": 16,
   "id": "34a869ec",
   "metadata": {
    "ExecuteTime": {
     "end_time": "2024-11-10T20:50:55.653517Z",
     "start_time": "2024-11-10T20:50:55.619568Z"
    }
   },
   "outputs": [
    {
     "name": "stdout",
     "output_type": "stream",
     "text": [
      "                             Parameter  \\\n",
      "0        spark.driver.extraJavaOptions   \n",
      "1                  spark.app.startTime   \n",
      "2                    spark.executor.id   \n",
      "3                    spark.driver.host   \n",
      "4                 spark.app.submitTime   \n",
      "5                         spark.app.id   \n",
      "6                    spark.driver.port   \n",
      "7                   spark.rdd.compress   \n",
      "8      spark.executor.extraJavaOptions   \n",
      "9                       spark.app.name   \n",
      "10  spark.serializer.objectStreamReset   \n",
      "11                        spark.master   \n",
      "12                spark.submit.pyFiles   \n",
      "13             spark.submit.deployMode   \n",
      "14             spark.sql.warehouse.dir   \n",
      "15        spark.ui.showConsoleProgress   \n",
      "\n",
      "                                                Value  \n",
      "0   -XX:+IgnoreUnrecognizedVMOptions --add-opens=j...  \n",
      "1                                       1731271305797  \n",
      "2                                              driver  \n",
      "3                                           10.0.2.15  \n",
      "4                                       1731265868748  \n",
      "5                                 local-1731271305852  \n",
      "6                                               39511  \n",
      "7                                                True  \n",
      "8   -XX:+IgnoreUnrecognizedVMOptions --add-opens=j...  \n",
      "9                                  LogisticRegression  \n",
      "10                                                100  \n",
      "11                                           local[*]  \n",
      "12                                                     \n",
      "13                                             client  \n",
      "14           file:/home/administrador/spark-warehouse  \n",
      "15                                               true  \n"
     ]
    }
   ],
   "source": [
    "\n",
    "# Retrieve and display Spark configuration settings in a DataFrame\n",
    "config = spark.sparkContext.getConf().getAll()\n",
    "config_df = pd.DataFrame(config, columns=['Parameter', 'Value'])\n",
    "print(config_df)  \n"
   ]
  },
  {
   "cell_type": "code",
   "execution_count": 35,
   "id": "4d84a9ec",
   "metadata": {
    "ExecuteTime": {
     "end_time": "2024-11-10T21:45:46.297554Z",
     "start_time": "2024-11-10T21:45:45.920796Z"
    }
   },
   "outputs": [],
   "source": [
    "spark.stop()"
   ]
  },
  {
   "cell_type": "code",
   "execution_count": null,
   "id": "30b21b7c",
   "metadata": {},
   "outputs": [],
   "source": []
  }
 ],
 "metadata": {
  "kernelspec": {
   "display_name": "Python 3 (ipykernel)",
   "language": "python",
   "name": "python3"
  },
  "language_info": {
   "codemirror_mode": {
    "name": "ipython",
    "version": 3
   },
   "file_extension": ".py",
   "mimetype": "text/x-python",
   "name": "python",
   "nbconvert_exporter": "python",
   "pygments_lexer": "ipython3",
   "version": "3.7.16"
  },
  "toc": {
   "base_numbering": 1,
   "nav_menu": {},
   "number_sections": true,
   "sideBar": true,
   "skip_h1_title": false,
   "title_cell": "Table of Contents",
   "title_sidebar": "Contents",
   "toc_cell": false,
   "toc_position": {},
   "toc_section_display": true,
   "toc_window_display": false
  }
 },
 "nbformat": 4,
 "nbformat_minor": 5
}
