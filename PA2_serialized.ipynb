{
 "cells": [
  {
   "cell_type": "markdown",
   "id": "70ed006a",
   "metadata": {},
   "source": [
    "# Imports"
   ]
  },
  {
   "cell_type": "code",
   "execution_count": 1,
   "id": "2b6f276b",
   "metadata": {
    "ExecuteTime": {
     "end_time": "2024-11-17T18:57:02.326512Z",
     "start_time": "2024-11-17T18:56:59.787835Z"
    }
   },
   "outputs": [],
   "source": [
    "import numpy as np\n",
    "import pandas as pd\n",
    "from pyspark.sql import SparkSession\n",
    "import matplotlib.pyplot as plt\n",
    "from time import time\n",
    "import seaborn as sns\n"
   ]
  },
  {
   "cell_type": "markdown",
   "id": "4faeb949",
   "metadata": {},
   "source": [
    "# Utility Functions and Parallel K-Means Class"
   ]
  },
  {
   "cell_type": "code",
   "execution_count": 2,
   "id": "5ee09d0a",
   "metadata": {
    "ExecuteTime": {
     "end_time": "2024-11-17T18:57:04.145577Z",
     "start_time": "2024-11-17T18:57:04.132282Z"
    }
   },
   "outputs": [],
   "source": [
    "# Utility Functions\n",
    "def euclidean_distance(x, y):\n",
    "    return np.sqrt(np.sum((x - y) ** 2))\n",
    "\n",
    "def plot_digit(data, title=''):\n",
    "    plt.figure(figsize=(4, 4))\n",
    "    plt.imshow(data.reshape(28, 28), cmap='gray')\n",
    "    plt.title(title)\n",
    "    plt.axis('off')\n",
    "    plt.show()\n",
    "    \n",
    "def visualize_clusters(centroids, k):\n",
    "\n",
    "    plt.figure(figsize=(2*k, 2))\n",
    "    for i in range(k):\n",
    "        plt.subplot(1, k, i+1)\n",
    "        plt.imshow(centroids[i].reshape(28, 28), cmap='gray')\n",
    "        plt.title(f'Cluster {i}')\n",
    "        plt.axis('off')\n",
    "    plt.tight_layout()\n",
    "    plt.show()\n",
    "\n",
    "# Serial Implementation\n",
    "class SerialKMeans:\n",
    "    @staticmethod\n",
    "    def serialReadFile(filename):\n",
    "        \n",
    "        # Read CSV file with header, drop the 'label' column if it exists\n",
    "        df = pd.read_csv(filename)\n",
    "        if 'label' in df.columns:\n",
    "            df = df.drop('label', axis=1)\n",
    "        # Convert all columns to float64\n",
    "        return df.astype(np.float64)\n",
    "    \n",
    "    @staticmethod\n",
    "    def serialAssign2cluster(x, centroids):\n",
    "       \n",
    "        distances = [euclidean_distance(x.astype(np.float64), c) for c in centroids]\n",
    "        return np.argmin(distances)\n",
    "    \n",
    "    @staticmethod\n",
    "    def serialKMeans(X, K, n_iter):\n",
    "        \n",
    "        # Convert data to float if not already\n",
    "        X = X.astype(np.float64)\n",
    "        \n",
    "        # Initialize centroids randomly\n",
    "        n_features = X.shape[1]\n",
    "        centroids = np.random.randn(K, n_features)\n",
    "        \n",
    "        for iteration in range(n_iter):\n",
    "            print(f\"Iteration {iteration + 1}/{n_iter}\")\n",
    "            \n",
    "            # Assign points to clusters\n",
    "            cluster_assignments = np.array([\n",
    "                SerialKMeans.serialAssign2cluster(x, centroids) \n",
    "                for x in X.values\n",
    "            ])\n",
    "            \n",
    "            # Update centroids\n",
    "            new_centroids = np.zeros_like(centroids)\n",
    "            for k in range(K):\n",
    "                if np.sum(cluster_assignments == k) > 0:\n",
    "                    new_centroids[k] = X.values[cluster_assignments == k].mean(axis=0)\n",
    "                else:\n",
    "                    new_centroids[k] = centroids[k]\n",
    "            \n",
    "            # Check convergence\n",
    "            if np.allclose(centroids, new_centroids):\n",
    "                print(f\"Converged after {iteration + 1} iterations\")\n",
    "                break\n",
    "                \n",
    "            centroids = new_centroids\n",
    "            \n",
    "        return centroids\n"
   ]
  },
  {
   "cell_type": "markdown",
   "id": "e386aab9",
   "metadata": {},
   "source": [
    "# Test / Main\n"
   ]
  },
  {
   "cell_type": "code",
   "execution_count": 3,
   "id": "dc78bd41",
   "metadata": {
    "ExecuteTime": {
     "end_time": "2024-11-17T18:58:34.931879Z",
     "start_time": "2024-11-17T18:57:06.332731Z"
    }
   },
   "outputs": [
    {
     "name": "stdout",
     "output_type": "stream",
     "text": [
      "Testing Serial Implementation...\n",
      "Data loaded: Shape = (70000, 784)\n",
      "Iteration 1/10\n",
      "Iteration 2/10\n",
      "Iteration 3/10\n",
      "Iteration 4/10\n",
      "Iteration 5/10\n",
      "Iteration 6/10\n",
      "Iteration 7/10\n",
      "Iteration 8/10\n",
      "Iteration 9/10\n",
      "Iteration 10/10\n",
      "Serial execution time: 79.02 seconds\n",
      "\n",
      "Visualizing Serial Results...\n"
     ]
    },
    {
     "data": {
      "image/png": "[encoded data removed]",
      "text/plain": [
       "<Figure size 1800x200 with 9 Axes>"
      ]
     },
     "metadata": {},
     "output_type": "display_data"
    }
   ],
   "source": [
    "filename = \"tot_mnist_shuf.csv\" \n",
    "print(\"Testing Serial Implementation...\")\n",
    "# Test serial implementation\n",
    "X = SerialKMeans.serialReadFile(filename)\n",
    "print(f\"Data loaded: Shape = {X.shape}\")\n",
    "    \n",
    "start_time = time()\n",
    "serial_centroids = SerialKMeans.serialKMeans(X, K=9, n_iter=10)\n",
    "serial_time = time() - start_time\n",
    "print(f\"Serial execution time: {serial_time:.2f} seconds\")\n",
    "    \n",
    "print(\"\\nVisualizing Serial Results...\")\n",
    "visualize_clusters(serial_centroids, 9)"
   ]
  },
  {
   "cell_type": "code",
   "execution_count": null,
   "id": "581eb1b9",
   "metadata": {},
   "outputs": [],
   "source": []
  }
 ],
 "metadata": {
  "kernelspec": {
   "display_name": "Python 3 (ipykernel)",
   "language": "python",
   "name": "python3"
  },
  "language_info": {
   "codemirror_mode": {
    "name": "ipython",
    "version": 3
   },
   "file_extension": ".py",
   "mimetype": "text/x-python",
   "name": "python",
   "nbconvert_exporter": "python",
   "pygments_lexer": "ipython3",
   "version": "3.7.16"
  },
  "toc": {
   "base_numbering": 1,
   "nav_menu": {},
   "number_sections": true,
   "sideBar": true,
   "skip_h1_title": false,
   "title_cell": "Table of Contents",
   "title_sidebar": "Contents",
   "toc_cell": false,
   "toc_position": {},
   "toc_section_display": true,
   "toc_window_display": false
  }
 },
 "nbformat": 4,
 "nbformat_minor": 5
}
