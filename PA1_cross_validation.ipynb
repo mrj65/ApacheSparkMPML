{
 "cells": [
  {
   "cell_type": "code",
   "execution_count": 1,
   "id": "bd608a2b",
   "metadata": {
    "ExecuteTime": {
     "end_time": "2024-11-17T21:24:24.831070Z",
     "start_time": "2024-11-17T21:24:22.529227Z"
    }
   },
   "outputs": [],
   "source": [
    "import time\n",
    "from sklearn.metrics import precision_score, recall_score, f1_score, roc_auc_score,roc_curve, precision_recall_curve, confusion_matrix\n",
    "import matplotlib.pyplot as plt\n",
    "import seaborn as sns\n",
    "import numpy as np\n",
    "from pyspark.sql import SparkSession\n",
    "from pyspark import StorageLevel\n",
    "import pandas as pd\n"
   ]
  },
  {
   "cell_type": "code",
   "execution_count": 4,
   "id": "cbd46a76",
   "metadata": {
    "ExecuteTime": {
     "end_time": "2024-11-17T21:30:59.573506Z",
     "start_time": "2024-11-17T21:30:59.544707Z"
    }
   },
   "outputs": [],
   "source": [
    "\n",
    "\n",
    "def predict(w, b, X):\n",
    "    z = np.dot(X, w) + b\n",
    "    return 1 if sigmoid(z) > 0.5 else 0\n",
    "\n",
    "def sigmoid(z):\n",
    "    # Use a numerically stable version\n",
    "    return np.where(z >= 0, 1 / (1 + np.exp(-z)), np.exp(z) / (1 + np.exp(z)))\n",
    "\n",
    "\n",
    "\n",
    "class ParallelLogisticRegression:\n",
    "    \n",
    "    #@staticmethod\n",
    "    def readFile(self,filename):\n",
    "        filename = 'botnet_tot_syn_l.csv'\n",
    "        \n",
    "        rdd = self.spark.sparkContext.textFile(filename)\n",
    "        header = rdd.first()\n",
    "        data_rdd = rdd.filter(lambda line: line != header) \\\n",
    "                     .map(lambda line: [float(x) for x in line.split(',')])\n",
    "        return data_rdd.map(lambda x: (np.array(x[:-1]), x[-1]))\n",
    "\n",
    "    @staticmethod\n",
    "    def normalize(rdd_Xy):\n",
    "        count = rdd_Xy.count()\n",
    "        sums = rdd_Xy.map(lambda x: x[0]).reduce(lambda a, b: a + b)\n",
    "        means = sums / count\n",
    "        var_sums = rdd_Xy.map(lambda x: (x[0] - means) ** 2).reduce(lambda a, b: a + b)\n",
    "        stds = np.sqrt(var_sums / count)\n",
    "        \n",
    "        # Normalize features and cache the RDD for reuse in training\n",
    "        normalized_rdd = rdd_Xy.map(lambda x: ((x[0] - means) / stds, x[1]))\n",
    "        normalized_rdd.persist(StorageLevel.MEMORY_ONLY)  # Caching normalized data\n",
    "        return normalized_rdd\n",
    "\n",
    "    def train(rdd_Xy, iterations, learning_rate, lambda_reg):\n",
    "\n",
    "        n = len(rdd_Xy.first()[0])  # number of features\n",
    "        w = np.zeros(n)\n",
    "        b = 0\n",
    "        m = rdd_Xy.count()\n",
    "        costs = []\n",
    "        \n",
    "\n",
    "        for i in range(iterations):\n",
    "            # Parallel computation of gradients and cost\n",
    "            gradients = rdd_Xy.map(lambda x: {\n",
    "                'pred': sigmoid(np.dot(x[0], w) + b), \n",
    "                'x': x[0],  \n",
    "                'y': x[1]   \n",
    "            }).map(lambda d: {\n",
    "                'dw': (d['pred'] - d['y']) * d['x'],\n",
    "                'db': d['pred'] - d['y'],\n",
    "                'cost': -d['y'] * np.log(d['pred']) - (1 - d['y']) * np.log(1 - d['pred'])\n",
    "            }).reduce(lambda a, b: {\n",
    "                'dw': a['dw'] + b['dw'],\n",
    "                'db': a['db'] + b['db'],\n",
    "                'cost': a['cost'] + b['cost']\n",
    "            })\n",
    "\n",
    "            # Update weights and bias\n",
    "            dw = gradients['dw'] / m + (lambda_reg / m) * w\n",
    "            db = gradients['db'] / m\n",
    "            cost = gradients['cost'] / m + (lambda_reg / (2 * m)) * np.sum(w ** 2)\n",
    "\n",
    "            # Gradient descent update step\n",
    "            w -= learning_rate * dw\n",
    "            b -= learning_rate * db\n",
    "            costs.append(cost)\n",
    "            \n",
    "            # Log cost every 10 iterations to reduce verbosity\n",
    "            if i % 2 == 0:\n",
    "                print(f\"Iteration {i}, Cost: {cost}\")\n",
    "        \n",
    "        # Unpersist RDD after training\n",
    "        rdd_Xy.unpersist()\n",
    "        \n",
    "        return w, b, costs\n",
    "\n",
    "    @staticmethod\n",
    "    def accuracy(w, b, rdd_Xy):\n",
    "\n",
    "        correct_predictions = rdd_Xy.map(lambda x: (predict(w, b, x[0]) == x[1])).reduce(lambda a, b: a + b)\n",
    "        return correct_predictions / rdd_Xy.count()\n",
    "\n",
    "    \n",
    "    def cross_validate(self,normalized_rdd, k_folds, iterations, learning_rate, lambda_reg):\n",
    "        if hasattr(self, 'spark') and self.spark is not None:\n",
    "            self.spark.stop()\n",
    "            self.spark=None\n",
    "        \n",
    "        self.spark = SparkSession.builder \\\n",
    "            .appName(\"LogisticRegression\") \\\n",
    "            .getOrCreate()\n",
    "        filename = 'botnet_tot_syn_l.csv'\n",
    "        data_rdd = self.readFile(filename)\n",
    "        \n",
    "        partitions = data_rdd.randomSplit([1 / k_folds] * k_folds)\n",
    "        accuracies = []\n",
    "        \n",
    "       \n",
    "        \n",
    "        for i in range(k_folds):\n",
    "            # Split data into training and testing sets\n",
    "            test_rdd = partitions[i]\n",
    "            train_rdd = self.spark.sparkContext.union([partitions[j] for j in range(k_folds) if j != i])\n",
    "\n",
    "            # Normalize training data and train model\n",
    "            normalized_train_rdd = ParallelLogisticRegression.normalize(train_rdd)\n",
    "            w, b, _ = ParallelLogisticRegression.train(normalized_train_rdd, iterations, learning_rate, lambda_reg)\n",
    "\n",
    "            # Calculate accuracy on test set\n",
    "            norm_test_rdd = ParallelLogisticRegression.normalize(test_rdd)\n",
    "            accuracy = ParallelLogisticRegression.accuracy(w, b, norm_test_rdd)\n",
    "            accuracies.append(accuracy)\n",
    "            print(f\"Fold {i}, Accuracy: {accuracy}\")\n",
    "\n",
    "        avg_accuracy = np.mean(accuracies)\n",
    "        print(f\"Cross-validation Average Accuracy: {avg_accuracy}\")\n",
    "        self.spark.stop()\n",
    "        self.spark=None\n",
    "\n",
    "        return avg_accuracy\n",
    "    \n",
    "\n"
   ]
  },
  {
   "cell_type": "code",
   "execution_count": 5,
   "id": "aacc3812",
   "metadata": {
    "ExecuteTime": {
     "end_time": "2024-11-17T21:38:06.709057Z",
     "start_time": "2024-11-17T21:31:03.368410Z"
    },
    "scrolled": true
   },
   "outputs": [
    {
     "name": "stdout",
     "output_type": "stream",
     "text": [
      "\n",
      "Performing cross-validation...\n"
     ]
    },
    {
     "name": "stderr",
     "output_type": "stream",
     "text": [
      "[Stage 4:>                                                          (0 + 1) / 1]\r"
     ]
    },
    {
     "name": "stdout",
     "output_type": "stream",
     "text": [
      "24/11/17 22:31:40 WARN BlockManager: Task 82 already completed, not releasing lock for rdd_10_0\n"
     ]
    },
    {
     "name": "stderr",
     "output_type": "stream",
     "text": [
      "                                                                                \r"
     ]
    },
    {
     "name": "stdout",
     "output_type": "stream",
     "text": [
      "Iteration 0, Cost: 0.6931471805597181\n"
     ]
    },
    {
     "name": "stderr",
     "output_type": "stream",
     "text": [
      "                                                                                \r"
     ]
    },
    {
     "name": "stdout",
     "output_type": "stream",
     "text": [
      "Iteration 2, Cost: 0.6397212987754329\n"
     ]
    },
    {
     "name": "stderr",
     "output_type": "stream",
     "text": [
      "                                                                                \r"
     ]
    },
    {
     "name": "stdout",
     "output_type": "stream",
     "text": [
      "Iteration 4, Cost: 0.5952658703260666\n"
     ]
    },
    {
     "name": "stderr",
     "output_type": "stream",
     "text": [
      "                                                                                \r"
     ]
    },
    {
     "name": "stdout",
     "output_type": "stream",
     "text": [
      "Iteration 6, Cost: 0.5580265839446013\n"
     ]
    },
    {
     "name": "stderr",
     "output_type": "stream",
     "text": [
      "                                                                                \r"
     ]
    },
    {
     "name": "stdout",
     "output_type": "stream",
     "text": [
      "Iteration 8, Cost: 0.5265667702637546\n"
     ]
    },
    {
     "name": "stderr",
     "output_type": "stream",
     "text": [
      "                                                                                \r"
     ]
    },
    {
     "name": "stdout",
     "output_type": "stream",
     "text": [
      "Fold 0, Accuracy: 0.8988173931213508\n"
     ]
    },
    {
     "name": "stderr",
     "output_type": "stream",
     "text": [
      "[Stage 24:>                                                         (0 + 1) / 1]\r"
     ]
    },
    {
     "name": "stdout",
     "output_type": "stream",
     "text": [
      "24/11/17 22:33:33 WARN BlockManager: Task 506 already completed, not releasing lock for rdd_34_0\n"
     ]
    },
    {
     "name": "stderr",
     "output_type": "stream",
     "text": [
      "                                                                                \r"
     ]
    },
    {
     "name": "stdout",
     "output_type": "stream",
     "text": [
      "Iteration 0, Cost: 0.6931471805597209\n"
     ]
    },
    {
     "name": "stderr",
     "output_type": "stream",
     "text": [
      "                                                                                \r"
     ]
    },
    {
     "name": "stdout",
     "output_type": "stream",
     "text": [
      "Iteration 2, Cost: 0.6398390848507236\n"
     ]
    },
    {
     "name": "stderr",
     "output_type": "stream",
     "text": [
      "                                                                                \r"
     ]
    },
    {
     "name": "stdout",
     "output_type": "stream",
     "text": [
      "Iteration 4, Cost: 0.5954649753004224\n"
     ]
    },
    {
     "name": "stderr",
     "output_type": "stream",
     "text": [
      "                                                                                \r"
     ]
    },
    {
     "name": "stdout",
     "output_type": "stream",
     "text": [
      "Iteration 6, Cost: 0.5582811763032497\n"
     ]
    },
    {
     "name": "stderr",
     "output_type": "stream",
     "text": [
      "                                                                                \r"
     ]
    },
    {
     "name": "stdout",
     "output_type": "stream",
     "text": [
      "Iteration 8, Cost: 0.52685895885351\n"
     ]
    },
    {
     "name": "stderr",
     "output_type": "stream",
     "text": [
      "                                                                                \r"
     ]
    },
    {
     "name": "stdout",
     "output_type": "stream",
     "text": [
      "Fold 1, Accuracy: 0.8998649631245456\n"
     ]
    },
    {
     "name": "stderr",
     "output_type": "stream",
     "text": [
      "[Stage 44:>                                                         (0 + 1) / 1]\r"
     ]
    },
    {
     "name": "stdout",
     "output_type": "stream",
     "text": [
      "24/11/17 22:35:14 WARN BlockManager: Task 930 already completed, not releasing lock for rdd_57_0\n"
     ]
    },
    {
     "name": "stderr",
     "output_type": "stream",
     "text": [
      "                                                                                \r"
     ]
    },
    {
     "name": "stdout",
     "output_type": "stream",
     "text": [
      "Iteration 0, Cost: 0.6931471805597209\n"
     ]
    },
    {
     "name": "stderr",
     "output_type": "stream",
     "text": [
      "                                                                                \r"
     ]
    },
    {
     "name": "stdout",
     "output_type": "stream",
     "text": [
      "Iteration 2, Cost: 0.6398266593605021\n"
     ]
    },
    {
     "name": "stderr",
     "output_type": "stream",
     "text": [
      "                                                                                \r"
     ]
    },
    {
     "name": "stdout",
     "output_type": "stream",
     "text": [
      "Iteration 4, Cost: 0.5954454143558198\n"
     ]
    },
    {
     "name": "stderr",
     "output_type": "stream",
     "text": [
      "                                                                                \r"
     ]
    },
    {
     "name": "stdout",
     "output_type": "stream",
     "text": [
      "Iteration 6, Cost: 0.5582578004278489\n"
     ]
    },
    {
     "name": "stderr",
     "output_type": "stream",
     "text": [
      "                                                                                \r"
     ]
    },
    {
     "name": "stdout",
     "output_type": "stream",
     "text": [
      "Iteration 8, Cost: 0.5268338034851011\n"
     ]
    },
    {
     "name": "stderr",
     "output_type": "stream",
     "text": [
      "                                                                                \r"
     ]
    },
    {
     "name": "stdout",
     "output_type": "stream",
     "text": [
      "Fold 2, Accuracy: 0.9000075966878441\n"
     ]
    },
    {
     "name": "stderr",
     "output_type": "stream",
     "text": [
      "[Stage 64:>                                                         (0 + 1) / 1]\r"
     ]
    },
    {
     "name": "stdout",
     "output_type": "stream",
     "text": [
      "24/11/17 22:36:56 WARN BlockManager: Task 1354 already completed, not releasing lock for rdd_80_0\n"
     ]
    },
    {
     "name": "stderr",
     "output_type": "stream",
     "text": [
      "                                                                                \r"
     ]
    },
    {
     "name": "stdout",
     "output_type": "stream",
     "text": [
      "Iteration 0, Cost: 0.693147180559722\n"
     ]
    },
    {
     "name": "stderr",
     "output_type": "stream",
     "text": [
      "                                                                                \r"
     ]
    },
    {
     "name": "stdout",
     "output_type": "stream",
     "text": [
      "Iteration 2, Cost: 0.6398787424451801\n"
     ]
    },
    {
     "name": "stderr",
     "output_type": "stream",
     "text": [
      "                                                                                \r"
     ]
    },
    {
     "name": "stdout",
     "output_type": "stream",
     "text": [
      "Iteration 4, Cost: 0.5955313140177895\n"
     ]
    },
    {
     "name": "stderr",
     "output_type": "stream",
     "text": [
      "                                                                                \r"
     ]
    },
    {
     "name": "stdout",
     "output_type": "stream",
     "text": [
      "Iteration 6, Cost: 0.5583653633256157\n"
     ]
    },
    {
     "name": "stderr",
     "output_type": "stream",
     "text": [
      "                                                                                \r"
     ]
    },
    {
     "name": "stdout",
     "output_type": "stream",
     "text": [
      "Iteration 8, Cost: 0.5269551934701853\n"
     ]
    },
    {
     "name": "stderr",
     "output_type": "stream",
     "text": [
      "                                                                                \r"
     ]
    },
    {
     "name": "stdout",
     "output_type": "stream",
     "text": [
      "Fold 3, Accuracy: 0.9004391160247437\n",
      "Cross-validation Average Accuracy: 0.899782267239621\n"
     ]
    }
   ],
   "source": [
    "# Perform cross-validation\n",
    "print(\"\\nPerforming cross-validation...\")\n",
    "learning_rates = 0.1\n",
    "lambda_regs = 0.1\n",
    "\n",
    "model=ParallelLogisticRegression()\n",
    "acc =model.cross_validate(\n",
    "        normalized_rdd=None,\n",
    "        k_folds=4,\n",
    "        iterations=10,\n",
    "        learning_rate=learning_rates,\n",
    "        lambda_reg=lambda_regs)\n",
    "    \n"
   ]
  },
  {
   "cell_type": "code",
   "execution_count": null,
   "id": "3e68abb5",
   "metadata": {},
   "outputs": [],
   "source": []
  }
 ],
 "metadata": {
  "kernelspec": {
   "display_name": "Python 3 (ipykernel)",
   "language": "python",
   "name": "python3"
  },
  "language_info": {
   "codemirror_mode": {
    "name": "ipython",
    "version": 3
   },
   "file_extension": ".py",
   "mimetype": "text/x-python",
   "name": "python",
   "nbconvert_exporter": "python",
   "pygments_lexer": "ipython3",
   "version": "3.7.16"
  },
  "toc": {
   "base_numbering": 1,
   "nav_menu": {},
   "number_sections": true,
   "sideBar": true,
   "skip_h1_title": false,
   "title_cell": "Table of Contents",
   "title_sidebar": "Contents",
   "toc_cell": false,
   "toc_position": {},
   "toc_section_display": true,
   "toc_window_display": false
  }
 },
 "nbformat": 4,
 "nbformat_minor": 5
}
